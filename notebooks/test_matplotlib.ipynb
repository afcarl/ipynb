{
 "metadata": {
  "name": "",
  "signature": "sha256:277acc7808d04b88ef80efb9097372a17bfbd8900ba0a6378bcf09626627ed31"
 },
 "nbformat": 3,
 "nbformat_minor": 0,
 "worksheets": []
}