{
 "cells": [
  {
   "cell_type": "markdown",
   "metadata": {},
   "source": [
    "A notebook to test `pycairo` (canvas library)"
   ]
  },
  {
   "cell_type": "code",
   "execution_count": 3,
   "metadata": {
    "collapsed": false
   },
   "outputs": [
    {
     "name": "stdout",
     "output_type": "stream",
     "text": [
      "The autoreload extension is already loaded. To reload it, use:\n",
      "  %reload_ext autoreload\n"
     ]
    }
   ],
   "source": [
    "%load_ext autoreload\n",
    "%autoreload 2\n",
    "%matplotlib inline\n",
    "#%config InlineBackend.figure_format = 'svg'\n",
    "#%config InlineBackend.figure_format = 'pdf'\n",
    "\n",
    "import cairo\n",
    "import math\n",
    "import matplotlib\n",
    "import matplotlib.pyplot as plt\n",
    "import numpy as np\n",
    "import scipy.stats as stats\n",
    "import sympy"
   ]
  },
  {
   "cell_type": "code",
   "execution_count": 4,
   "metadata": {
    "collapsed": true
   },
   "outputs": [],
   "source": [
    "# font options\n",
    "font = {\n",
    "    #'family' : 'normal',\n",
    "    #'weight' : 'bold',\n",
    "    'size'   : 18\n",
    "}\n",
    "\n",
    "plt.rc('font', **font)\n",
    "plt.rc('lines', linewidth=2)\n",
    "matplotlib.rcParams['pdf.fonttype'] = 42\n",
    "matplotlib.rcParams['ps.fonttype'] = 42\n"
   ]
  },
  {
   "cell_type": "markdown",
   "metadata": {},
   "source": [
    "Create an arbitrary `cairo` image."
   ]
  },
  {
   "cell_type": "code",
   "execution_count": 98,
   "metadata": {
    "collapsed": true
   },
   "outputs": [],
   "source": [
    "WIDTH, HEIGHT = 256, 150\n",
    "\n",
    "surface = cairo.ImageSurface (cairo.FORMAT_ARGB32, WIDTH, HEIGHT)\n",
    "x, y, radius = (200, 250, 200)\n",
    "ctx = cairo.Context(surface)\n",
    "ctx.set_line_width(15)\n",
    "ctx.arc(x, y, radius, 0, 2.0 * math.pi)\n",
    "ctx.set_source_rgb(0.8, 0.0, 0.0)\n",
    "ctx.fill_preserve()\n",
    "ctx.set_source_rgb(0.0, 0, 0.7)\n",
    "ctx.stroke()\n",
    "buf = surface.get_data()"
   ]
  },
  {
   "cell_type": "markdown",
   "metadata": {},
   "source": [
    "Convert it into a numpy array."
   ]
  },
  {
   "cell_type": "code",
   "execution_count": 99,
   "metadata": {
    "collapsed": false
   },
   "outputs": [
    {
     "data": {
      "text/plain": [
       "<matplotlib.image.AxesImage at 0x7fa4f8f66290>"
      ]
     },
     "execution_count": 99,
     "metadata": {},
     "output_type": "execute_result"
    },
    {
     "data": {
      "image/png": "[encoded data removed]",
      "text/plain": [
       "<matplotlib.figure.Figure at 0x7fa4f93f38d0>"
      ]
     },
     "metadata": {},
     "output_type": "display_data"
    }
   ],
   "source": [
    "im = np.frombuffer(buf, dtype=np.uint8)\n",
    "# im.shape = (HEIGHT, WIDTH, 4)\n",
    "im = np.reshape(im, [HEIGHT, WIDTH, 4])\n",
    "# swap axis to get r-g-b-alpha\n",
    "im = im[:, :, [2, 1, 0, 3]]\n",
    "plt.imshow(im)"
   ]
  },
  {
   "cell_type": "markdown",
   "metadata": {},
   "source": [
    "## Cairo"
   ]
  },
  {
   "cell_type": "code",
   "execution_count": 58,
   "metadata": {
    "collapsed": false
   },
   "outputs": [],
   "source": [
    "# tutorial (original cairo in C code). https://www.cairographics.org/tutorial/\n",
    "\n",
    "def surface_to_nparray(surface):\n",
    "    buf = surface.get_data()\n",
    "    im = np.frombuffer(buf, dtype=np.uint8)\n",
    "    h = surface.get_height()\n",
    "    w = surface.get_width()\n",
    "    im = np.reshape(im, [h, w, 4])\n",
    "    # swap axis to get r-g-b-alpha\n",
    "    im = im[:, :, [2, 1, 0, 3]]\n",
    "    return im\n",
    "\n",
    "def show_surface(surface):\n",
    "    im = surface_to_nparray(surface)\n",
    "    plt.imshow(im)\n",
    "    plt.axis('equal')"
   ]
  },
  {
   "cell_type": "markdown",
   "metadata": {},
   "source": [
    "### A rectangle with solid colour."
   ]
  },
  {
   "cell_type": "code",
   "execution_count": 63,
   "metadata": {
    "collapsed": false
   },
   "outputs": [
    {
     "data": {
      "image/png": "[encoded data removed]",
      "text/plain": [
       "<matplotlib.figure.Figure at 0x7fa4f8fa6250>"
      ]
     },
     "metadata": {},
     "output_type": "display_data"
    }
   ],
   "source": [
    "width, height = 300, 200\n",
    "surface = cairo.ImageSurface(cairo.FORMAT_ARGB32, width, height)\n",
    "ctx = cairo.Context(surface)\n",
    "ctx.scale(width, height)\n",
    "\n",
    "# solid color\n",
    "ctx.set_source_rgb(0.5, 0.4, 0.0)\n",
    "ctx.rectangle(0.1, 0.3, 0.2, 0.4) # Rectangle (x0, y0, width, height)\n",
    "ctx.fill_preserve()\n",
    "# ctx.stroke()\n",
    "show_surface(surface)"
   ]
  },
  {
   "cell_type": "markdown",
   "metadata": {},
   "source": [
    "## A simple stroke, and a rectangle"
   ]
  },
  {
   "cell_type": "code",
   "execution_count": 93,
   "metadata": {
    "collapsed": false
   },
   "outputs": [
    {
     "data": {
      "image/png": "[encoded data removed]",
      "text/plain": [
       "<matplotlib.figure.Figure at 0x7fa4f9232d50>"
      ]
     },
     "metadata": {},
     "output_type": "display_data"
    }
   ],
   "source": [
    "width, height = 300, 200\n",
    "surface = cairo.ImageSurface(cairo.FORMAT_ARGB32, width, height)\n",
    "ctx = cairo.Context(surface)\n",
    "\n",
    "# rectangle\n",
    "ctx.rectangle(0, 0, width/3.0, height/3.0)\n",
    "ctx.set_source_rgba(0, 1.0, 0, 0.6)\n",
    "ctx.fill()\n",
    "\n",
    "# line\n",
    "ctx.set_source_rgb(0.7, 0.0, 0.0)\n",
    "ctx.move_to(0, 0)\n",
    "ctx.line_to(width/2.0, height/2.0)\n",
    "ctx.set_line_width(3)\n",
    "ctx.stroke()\n",
    "\n",
    "show_surface(surface)"
   ]
  },
  {
   "cell_type": "code",
   "execution_count": null,
   "metadata": {
    "collapsed": true
   },
   "outputs": [],
   "source": []
  },
  {
   "cell_type": "code",
   "execution_count": null,
   "metadata": {
    "collapsed": true
   },
   "outputs": [],
   "source": []
  },
  {
   "cell_type": "code",
   "execution_count": null,
   "metadata": {
    "collapsed": true
   },
   "outputs": [],
   "source": []
  },
  {
   "cell_type": "code",
   "execution_count": null,
   "metadata": {
    "collapsed": true
   },
   "outputs": [],
   "source": []
  },
  {
   "cell_type": "code",
   "execution_count": null,
   "metadata": {
    "collapsed": true
   },
   "outputs": [],
   "source": []
  },
  {
   "cell_type": "code",
   "execution_count": null,
   "metadata": {
    "collapsed": true
   },
   "outputs": [],
   "source": []
  },
  {
   "cell_type": "code",
   "execution_count": null,
   "metadata": {
    "collapsed": true
   },
   "outputs": [],
   "source": []
  },
  {
   "cell_type": "code",
   "execution_count": null,
   "metadata": {
    "collapsed": true
   },
   "outputs": [],
   "source": []
  },
  {
   "cell_type": "code",
   "execution_count": null,
   "metadata": {
    "collapsed": true
   },
   "outputs": [],
   "source": []
  },
  {
   "cell_type": "code",
   "execution_count": null,
   "metadata": {
    "collapsed": true
   },
   "outputs": [],
   "source": []
  },
  {
   "cell_type": "code",
   "execution_count": null,
   "metadata": {
    "collapsed": true
   },
   "outputs": [],
   "source": []
  }
 ],
 "metadata": {
  "kernelspec": {
   "display_name": "Python 2",
   "language": "python",
   "name": "python2"
  },
  "language_info": {
   "codemirror_mode": {
    "name": "ipython",
    "version": 2
   },
   "file_extension": ".py",
   "mimetype": "text/x-python",
   "name": "python",
   "nbconvert_exporter": "python",
   "pygments_lexer": "ipython2",
   "version": "2.7.13"
  }
 },
 "nbformat": 4,
 "nbformat_minor": 2
}
