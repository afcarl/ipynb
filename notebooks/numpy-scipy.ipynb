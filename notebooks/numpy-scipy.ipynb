{
 "metadata": {
  "name": "",
  "signature": "sha256:f4bd202403ee5962684737dc10f3ee063d25db9be40bf5dcb2f8cbfa6b285bab"
 },
 "nbformat": 3,
 "nbformat_minor": 0,
 "worksheets": [
  {
   "cells": [
    {
     "cell_type": "code",
     "collapsed": false,
     "input": [
      "%matplotlib inline\n",
      "import matplotlib.pyplot as plt\n",
      "import numpy as np"
     ],
     "language": "python",
     "metadata": {},
     "outputs": [],
     "prompt_number": 147
    },
    {
     "cell_type": "code",
     "collapsed": false,
     "input": [
      "plt.plot([1,2,3], [5,4, 6])"
     ],
     "language": "python",
     "metadata": {},
     "outputs": [
      {
       "metadata": {},
       "output_type": "pyout",
       "prompt_number": 148,
       "text": [
        "[<matplotlib.lines.Line2D at 0x9b63090>]"
       ]
      },
      {
       "metadata": {},
       "output_type": "display_data",
       "png": "[encoded data removed]",
       "text": [
        "<matplotlib.figure.Figure at 0x9330dd0>"
       ]
      }
     ],
     "prompt_number": 148
    },
    {
     "cell_type": "code",
     "collapsed": false,
     "input": [
      "help(plt.plot)"
     ],
     "language": "python",
     "metadata": {},
     "outputs": [
      {
       "output_type": "stream",
       "stream": "stdout",
       "text": [
        "Help on function plot in module matplotlib.pyplot:\n",
        "\n",
        "plot(*args, **kwargs)\n",
        "    Plot lines and/or markers to the\n",
        "    :class:`~matplotlib.axes.Axes`.  *args* is a variable length\n",
        "    argument, allowing for multiple *x*, *y* pairs with an\n",
        "    optional format string.  For example, each of the following is\n",
        "    legal::\n",
        "    \n",
        "        plot(x, y)        # plot x and y using default line style and color\n",
        "        plot(x, y, 'bo')  # plot x and y using blue circle markers\n",
        "        plot(y)           # plot y using x as index array 0..N-1\n",
        "        plot(y, 'r+')     # ditto, but with red plusses\n",
        "    \n",
        "    If *x* and/or *y* is 2-dimensional, then the corresponding columns\n",
        "    will be plotted.\n",
        "    \n",
        "    An arbitrary number of *x*, *y*, *fmt* groups can be\n",
        "    specified, as in::\n",
        "    \n",
        "        a.plot(x1, y1, 'g^', x2, y2, 'g-')\n",
        "    \n",
        "    Return value is a list of lines that were added.\n",
        "    \n",
        "    By default, each line is assigned a different color specified by a\n",
        "    'color cycle'.  To change this behavior, you can edit the\n",
        "    axes.color_cycle rcParam. Alternatively, you can use\n",
        "    :meth:`~matplotlib.axes.Axes.set_default_color_cycle`.\n",
        "    \n",
        "    The following format string characters are accepted to control\n",
        "    the line style or marker:\n",
        "    \n",
        "    ================    ===============================\n",
        "    character           description\n",
        "    ================    ===============================\n",
        "    ``'-'``             solid line style\n",
        "    ``'--'``            dashed line style\n",
        "    ``'-.'``            dash-dot line style\n",
        "    ``':'``             dotted line style\n",
        "    ``'.'``             point marker\n",
        "    ``','``             pixel marker\n",
        "    ``'o'``             circle marker\n",
        "    ``'v'``             triangle_down marker\n",
        "    ``'^'``             triangle_up marker\n",
        "    ``'<'``             triangle_left marker\n",
        "    ``'>'``             triangle_right marker\n",
        "    ``'1'``             tri_down marker\n",
        "    ``'2'``             tri_up marker\n",
        "    ``'3'``             tri_left marker\n",
        "    ``'4'``             tri_right marker\n",
        "    ``'s'``             square marker\n",
        "    ``'p'``             pentagon marker\n",
        "    ``'*'``             star marker\n",
        "    ``'h'``             hexagon1 marker\n",
        "    ``'H'``             hexagon2 marker\n",
        "    ``'+'``             plus marker\n",
        "    ``'x'``             x marker\n",
        "    ``'D'``             diamond marker\n",
        "    ``'d'``             thin_diamond marker\n",
        "    ``'|'``             vline marker\n",
        "    ``'_'``             hline marker\n",
        "    ================    ===============================\n",
        "    \n",
        "    \n",
        "    The following color abbreviations are supported:\n",
        "    \n",
        "    ==========  ========\n",
        "    character   color\n",
        "    ==========  ========\n",
        "    'b'         blue\n",
        "    'g'         green\n",
        "    'r'         red\n",
        "    'c'         cyan\n",
        "    'm'         magenta\n",
        "    'y'         yellow\n",
        "    'k'         black\n",
        "    'w'         white\n",
        "    ==========  ========\n",
        "    \n",
        "    In addition, you can specify colors in many weird and\n",
        "    wonderful ways, including full names (``'green'``), hex\n",
        "    strings (``'#008000'``), RGB or RGBA tuples (``(0,1,0,1)``) or\n",
        "    grayscale intensities as a string (``'0.8'``).  Of these, the\n",
        "    string specifications can be used in place of a ``fmt`` group,\n",
        "    but the tuple forms can be used only as ``kwargs``.\n",
        "    \n",
        "    Line styles and colors are combined in a single format string, as in\n",
        "    ``'bo'`` for blue circles.\n",
        "    \n",
        "    The *kwargs* can be used to set line properties (any property that has\n",
        "    a ``set_*`` method).  You can use this to set a line label (for auto\n",
        "    legends), linewidth, anitialising, marker face color, etc.  Here is an\n",
        "    example::\n",
        "    \n",
        "        plot([1,2,3], [1,2,3], 'go-', label='line 1', linewidth=2)\n",
        "        plot([1,2,3], [1,4,9], 'rs',  label='line 2')\n",
        "        axis([0, 4, 0, 10])\n",
        "        legend()\n",
        "    \n",
        "    If you make multiple lines with one plot command, the kwargs\n",
        "    apply to all those lines, e.g.::\n",
        "    \n",
        "        plot(x1, y1, x2, y2, antialised=False)\n",
        "    \n",
        "    Neither line will be antialiased.\n",
        "    \n",
        "    You do not need to use format strings, which are just\n",
        "    abbreviations.  All of the line properties can be controlled\n",
        "    by keyword arguments.  For example, you can set the color,\n",
        "    marker, linestyle, and markercolor with::\n",
        "    \n",
        "        plot(x, y, color='green', linestyle='dashed', marker='o',\n",
        "             markerfacecolor='blue', markersize=12).\n",
        "    \n",
        "    See :class:`~matplotlib.lines.Line2D` for details.\n",
        "    \n",
        "    The kwargs are :class:`~matplotlib.lines.Line2D` properties:\n",
        "    \n",
        "      agg_filter: unknown\n",
        "      alpha: float (0.0 transparent through 1.0 opaque)         \n",
        "      animated: [True | False]         \n",
        "      antialiased or aa: [True | False]         \n",
        "      axes: an :class:`~matplotlib.axes.Axes` instance         \n",
        "      clip_box: a :class:`matplotlib.transforms.Bbox` instance         \n",
        "      clip_on: [True | False]         \n",
        "      clip_path: [ (:class:`~matplotlib.path.Path`,         :class:`~matplotlib.transforms.Transform`) |         :class:`~matplotlib.patches.Patch` | None ]         \n",
        "      color or c: any matplotlib color         \n",
        "      contains: a callable function         \n",
        "      dash_capstyle: ['butt' | 'round' | 'projecting']         \n",
        "      dash_joinstyle: ['miter' | 'round' | 'bevel']         \n",
        "      dashes: sequence of on/off ink in points         \n",
        "      drawstyle: ['default' | 'steps' | 'steps-pre' | 'steps-mid' |                   'steps-post']         \n",
        "      figure: a :class:`matplotlib.figure.Figure` instance         \n",
        "      fillstyle: ['full' | 'left' | 'right' | 'bottom' | 'top' | 'none']         \n",
        "      gid: an id string         \n",
        "      label: string or anything printable with '%s' conversion.         \n",
        "      linestyle or ls: [``'-'`` | ``'--'`` | ``'-.'`` | ``':'`` | ``'None'`` |                   ``' '`` | ``''``]         and any drawstyle in combination with a linestyle, e.g., ``'steps--'``.         \n",
        "      linewidth or lw: float value in points         \n",
        "      lod: [True | False]         \n",
        "      marker: unknown\n",
        "      markeredgecolor or mec: any matplotlib color         \n",
        "      markeredgewidth or mew: float value in points         \n",
        "      markerfacecolor or mfc: any matplotlib color         \n",
        "      markerfacecoloralt or mfcalt: any matplotlib color         \n",
        "      markersize or ms: float         \n",
        "      markevery: None | integer | (startind, stride)\n",
        "      path_effects: unknown\n",
        "      picker: float distance in points or callable pick function         ``fn(artist, event)``         \n",
        "      pickradius: float distance in points         \n",
        "      rasterized: [True | False | None]         \n",
        "      sketch_params: unknown\n",
        "      snap: unknown\n",
        "      solid_capstyle: ['butt' | 'round' |  'projecting']         \n",
        "      solid_joinstyle: ['miter' | 'round' | 'bevel']         \n",
        "      transform: a :class:`matplotlib.transforms.Transform` instance         \n",
        "      url: a url string         \n",
        "      visible: [True | False]         \n",
        "      xdata: 1D array         \n",
        "      ydata: 1D array         \n",
        "      zorder: any number         \n",
        "    \n",
        "    kwargs *scalex* and *scaley*, if defined, are passed on to\n",
        "    :meth:`~matplotlib.axes.Axes.autoscale_view` to determine\n",
        "    whether the *x* and *y* axes are autoscaled; the default is\n",
        "    *True*.\n",
        "    \n",
        "    Additional kwargs: hold = [True|False] overrides default hold state\n",
        "\n"
       ]
      }
     ],
     "prompt_number": 149
    },
    {
     "cell_type": "code",
     "collapsed": false,
     "input": [
      "def f(x):\n",
      "    return x**2\n",
      "\n",
      "xs = range(-4, 4)\n",
      "plt.plot(xs, [f(x) for x in xs])"
     ],
     "language": "python",
     "metadata": {},
     "outputs": [
      {
       "metadata": {},
       "output_type": "pyout",
       "prompt_number": 150,
       "text": [
        "[<matplotlib.lines.Line2D at 0x9b8d610>]"
       ]
      },
      {
       "metadata": {},
       "output_type": "display_data",
       "png": "[encoded data removed]",
       "text": [
        "<matplotlib.figure.Figure at 0x74e8410>"
       ]
      }
     ],
     "prompt_number": 150
    },
    {
     "cell_type": "code",
     "collapsed": false,
     "input": [
      "xs1=np.arange(-3, 3, 0.1)\n",
      "plt.plot(xs1, [f(x) for x in xs1])"
     ],
     "language": "python",
     "metadata": {},
     "outputs": [
      {
       "metadata": {},
       "output_type": "pyout",
       "prompt_number": 151,
       "text": [
        "[<matplotlib.lines.Line2D at 0x9ebae50>]"
       ]
      },
      {
       "metadata": {},
       "output_type": "display_data",
       "png": "[encoded data removed]",
       "text": [
        "<matplotlib.figure.Figure at 0x879fb50>"
       ]
      }
     ],
     "prompt_number": 151
    },
    {
     "cell_type": "code",
     "collapsed": false,
     "input": [
      "xs2=np.linspace(-2, 2, 100)\n",
      "plt.plot(xs2, [f(x) for x in xs2])"
     ],
     "language": "python",
     "metadata": {},
     "outputs": [
      {
       "metadata": {},
       "output_type": "pyout",
       "prompt_number": 152,
       "text": [
        "[<matplotlib.lines.Line2D at 0xa18e750>]"
       ]
      },
      {
       "metadata": {},
       "output_type": "display_data",
       "png": "[encoded data removed]",
       "text": [
        "<matplotlib.figure.Figure at 0x9b4f110>"
       ]
      }
     ],
     "prompt_number": 152
    },
    {
     "cell_type": "code",
     "collapsed": false,
     "input": [
      "# arithmetic works on ndarray returned from arange() and linspace()\n",
      "plt.plot(xs2, xs2**2)"
     ],
     "language": "python",
     "metadata": {},
     "outputs": [
      {
       "metadata": {},
       "output_type": "pyout",
       "prompt_number": 153,
       "text": [
        "[<matplotlib.lines.Line2D at 0xa2b19d0>]"
       ]
      },
      {
       "metadata": {},
       "output_type": "display_data",
       "png": "[encoded data removed]",
       "text": [
        "<matplotlib.figure.Figure at 0xa199fd0>"
       ]
      }
     ],
     "prompt_number": 153
    },
    {
     "cell_type": "code",
     "collapsed": false,
     "input": [
      "# linear regression\n",
      "def f(x):\n",
      "    return 2*X + 0.2*np.random.randn(x.size)\n",
      "\n",
      "X = np.random.randn(100)\n",
      "Y = f(X)"
     ],
     "language": "python",
     "metadata": {},
     "outputs": [],
     "prompt_number": 154
    },
    {
     "cell_type": "code",
     "collapsed": false,
     "input": [
      "# plot X, Y\n",
      "plt.rc('font', size=15)\n",
      "plt.plot(X, Y, 'o')\n",
      "plt.title('Training data')"
     ],
     "language": "python",
     "metadata": {},
     "outputs": [
      {
       "metadata": {},
       "output_type": "pyout",
       "prompt_number": 155,
       "text": [
        "<matplotlib.text.Text at 0xa4da610>"
       ]
      },
      {
       "metadata": {},
       "output_type": "display_data",
       "png": "[encoded data removed]",
       "text": [
        "<matplotlib.figure.Figure at 0x8c6cf50>"
       ]
      }
     ],
     "prompt_number": 155
    },
    {
     "cell_type": "code",
     "collapsed": false,
     "input": [
      "# regression\n",
      "w = np.dot(X,Y)/sum(X**2)\n",
      "print 'w: ', w\n",
      "dom = np.linspace(-3, 3, 100);\n",
      "plt.plot(X, Y, 'o', label='training points')\n",
      "plt.plot(dom, w*dom, '-r', linewidth=2, label='regression')\n",
      "plt.legend(loc='upper left')\n",
      "plt.xlabel('X')\n",
      "plt.ylabel('Y')"
     ],
     "language": "python",
     "metadata": {},
     "outputs": [
      {
       "output_type": "stream",
       "stream": "stdout",
       "text": [
        "w:  2.01589039623\n"
       ]
      },
      {
       "metadata": {},
       "output_type": "pyout",
       "prompt_number": 232,
       "text": [
        "<matplotlib.text.Text at 0xb190f10>"
       ]
      },
      {
       "metadata": {},
       "output_type": "display_data",
       "png": "[encoded data removed]",
       "text": [
        "<matplotlib.figure.Figure at 0xb3d0bd0>"
       ]
      }
     ],
     "prompt_number": 232
    },
    {
     "cell_type": "code",
     "collapsed": false,
     "input": [
      "w"
     ],
     "language": "python",
     "metadata": {},
     "outputs": [
      {
       "metadata": {},
       "output_type": "pyout",
       "prompt_number": 157,
       "text": [
        "2.0158903962340133"
       ]
      }
     ],
     "prompt_number": 157
    },
    {
     "cell_type": "markdown",
     "metadata": {},
     "source": [
      "## ndarray"
     ]
    },
    {
     "cell_type": "code",
     "collapsed": false,
     "input": [
      "a=np.array([3,2,5,1])\n",
      "print a\n",
      "print type(a)"
     ],
     "language": "python",
     "metadata": {},
     "outputs": [
      {
       "output_type": "stream",
       "stream": "stdout",
       "text": [
        "[3 2 5 1]\n",
        "<type 'numpy.ndarray'>\n"
       ]
      }
     ],
     "prompt_number": 158
    },
    {
     "cell_type": "code",
     "collapsed": false,
     "input": [
      "# be careful about the array type. uint32 can't represent a negative number\n",
      "b=np.array([2,1,-5], dtype=np.uint32)\n",
      "print b"
     ],
     "language": "python",
     "metadata": {},
     "outputs": [
      {
       "output_type": "stream",
       "stream": "stdout",
       "text": [
        "[         2          1 4294967291]\n"
       ]
      }
     ],
     "prompt_number": 159
    },
    {
     "cell_type": "code",
     "collapsed": false,
     "input": [
      "plt.hist(2*np.random.randn(1e4))"
     ],
     "language": "python",
     "metadata": {},
     "outputs": [
      {
       "metadata": {},
       "output_type": "pyout",
       "prompt_number": 160,
       "text": [
        "(array([   18.,   124.,   604.,  1609.,  2743.,  2682.,  1575.,   529.,\n",
        "          101.,    15.]),\n",
        " array([-7.33737047, -5.85578932, -4.37420817, -2.89262702, -1.41104587,\n",
        "         0.07053528,  1.55211642,  3.03369757,  4.51527872,  5.99685987,\n",
        "         7.47844102]),\n",
        " <a list of 10 Patch objects>)"
       ]
      },
      {
       "metadata": {},
       "output_type": "display_data",
       "png": "[encoded data removed]",
       "text": [
        "<matplotlib.figure.Figure at 0xa29e6d0>"
       ]
      }
     ],
     "prompt_number": 160
    },
    {
     "cell_type": "code",
     "collapsed": false,
     "input": [
      "a = np.eye(3)\n",
      "print a"
     ],
     "language": "python",
     "metadata": {},
     "outputs": [
      {
       "output_type": "stream",
       "stream": "stdout",
       "text": [
        "[[ 1.  0.  0.]\n",
        " [ 0.  1.  0.]\n",
        " [ 0.  0.  1.]]\n"
       ]
      }
     ],
     "prompt_number": 161
    },
    {
     "cell_type": "code",
     "collapsed": false,
     "input": [
      "print a.dtype\n",
      "print a.shape"
     ],
     "language": "python",
     "metadata": {},
     "outputs": [
      {
       "output_type": "stream",
       "stream": "stdout",
       "text": [
        "float64\n",
        "(3, 3)\n"
       ]
      }
     ],
     "prompt_number": 162
    },
    {
     "cell_type": "code",
     "collapsed": false,
     "input": [
      "a[1, :]"
     ],
     "language": "python",
     "metadata": {},
     "outputs": [
      {
       "metadata": {},
       "output_type": "pyout",
       "prompt_number": 163,
       "text": [
        "array([ 0.,  1.,  0.])"
       ]
      }
     ],
     "prompt_number": 163
    },
    {
     "cell_type": "code",
     "collapsed": false,
     "input": [
      "# the end index is exclusive\n",
      "a[0:2, 0:2]"
     ],
     "language": "python",
     "metadata": {},
     "outputs": [
      {
       "metadata": {},
       "output_type": "pyout",
       "prompt_number": 164,
       "text": [
        "array([[ 1.,  0.],\n",
        "       [ 0.,  1.]])"
       ]
      }
     ],
     "prompt_number": 164
    },
    {
     "cell_type": "code",
     "collapsed": false,
     "input": [
      "#assignment\n",
      "a[0:2, 0:2] = 2\n",
      "a"
     ],
     "language": "python",
     "metadata": {},
     "outputs": [
      {
       "metadata": {},
       "output_type": "pyout",
       "prompt_number": 165,
       "text": [
        "array([[ 2.,  2.,  0.],\n",
        "       [ 2.,  2.,  0.],\n",
        "       [ 0.,  0.,  1.]])"
       ]
      }
     ],
     "prompt_number": 165
    },
    {
     "cell_type": "code",
     "collapsed": false,
     "input": [
      "a[1:3, 1:3 ] = np.random.rand(2,2)\n",
      "a"
     ],
     "language": "python",
     "metadata": {},
     "outputs": [
      {
       "metadata": {},
       "output_type": "pyout",
       "prompt_number": 166,
       "text": [
        "array([[ 2.        ,  2.        ,  0.        ],\n",
        "       [ 2.        ,  0.50949118,  0.82296396],\n",
        "       [ 0.        ,  0.2216654 ,  0.85486547]])"
       ]
      }
     ],
     "prompt_number": 166
    },
    {
     "cell_type": "markdown",
     "metadata": {},
     "source": [
      "## Boolean indexing"
     ]
    },
    {
     "cell_type": "code",
     "collapsed": false,
     "input": [
      "a >= 2"
     ],
     "language": "python",
     "metadata": {},
     "outputs": [
      {
       "metadata": {},
       "output_type": "pyout",
       "prompt_number": 167,
       "text": [
        "array([[ True,  True, False],\n",
        "       [ True, False, False],\n",
        "       [False, False, False]], dtype=bool)"
       ]
      }
     ],
     "prompt_number": 167
    },
    {
     "cell_type": "code",
     "collapsed": false,
     "input": [
      "# boolean indexing with assignment using another array\n",
      "a[a>=2] = np.array([4, 5, 6])\n",
      "a"
     ],
     "language": "python",
     "metadata": {},
     "outputs": [
      {
       "metadata": {},
       "output_type": "pyout",
       "prompt_number": 168,
       "text": [
        "array([[ 4.        ,  5.        ,  0.        ],\n",
        "       [ 6.        ,  0.50949118,  0.82296396],\n",
        "       [ 0.        ,  0.2216654 ,  0.85486547]])"
       ]
      }
     ],
     "prompt_number": 168
    },
    {
     "cell_type": "markdown",
     "metadata": {},
     "source": [
      "## Operations"
     ]
    },
    {
     "cell_type": "code",
     "collapsed": false,
     "input": [
      "a+2*a"
     ],
     "language": "python",
     "metadata": {},
     "outputs": [
      {
       "metadata": {},
       "output_type": "pyout",
       "prompt_number": 169,
       "text": [
        "array([[ 12.        ,  15.        ,   0.        ],\n",
        "       [ 18.        ,   1.52847354,   2.46889187],\n",
        "       [  0.        ,   0.66499621,   2.56459641]])"
       ]
      }
     ],
     "prompt_number": 169
    },
    {
     "cell_type": "code",
     "collapsed": false,
     "input": [
      "# element-wise product. Not matrix product\n",
      "a*a"
     ],
     "language": "python",
     "metadata": {},
     "outputs": [
      {
       "metadata": {},
       "output_type": "pyout",
       "prompt_number": 171,
       "text": [
        "array([[ 16.        ,  25.        ,   0.        ],\n",
        "       [ 36.        ,   0.25958126,   0.67726967],\n",
        "       [  0.        ,   0.04913555,   0.73079497]])"
       ]
      }
     ],
     "prompt_number": 171
    },
    {
     "cell_type": "code",
     "collapsed": false,
     "input": [
      "np.log(1+a)"
     ],
     "language": "python",
     "metadata": {},
     "outputs": [
      {
       "metadata": {},
       "output_type": "pyout",
       "prompt_number": 179,
       "text": [
        "array([[ 1.60943791,  1.79175947,  0.        ],\n",
        "       [ 1.94591015,  0.41177263,  0.60046372],\n",
        "       [ 0.        ,  0.20021501,  0.61781217]])"
       ]
      }
     ],
     "prompt_number": 179
    },
    {
     "cell_type": "markdown",
     "metadata": {},
     "source": [
      "## Broadcasting array size"
     ]
    },
    {
     "cell_type": "code",
     "collapsed": false,
     "input": [
      "a = np.ones((2,2))\n",
      "print 'a:'\n",
      "print a\n",
      "b = np.array([[2],[3]])\n",
      "print 'b:'\n",
      "print b"
     ],
     "language": "python",
     "metadata": {},
     "outputs": [
      {
       "output_type": "stream",
       "stream": "stdout",
       "text": [
        "a:\n",
        "[[ 1.  1.]\n",
        " [ 1.  1.]]\n",
        "b:\n",
        "[[2]\n",
        " [3]]\n"
       ]
      }
     ],
     "prompt_number": 199
    },
    {
     "cell_type": "code",
     "collapsed": false,
     "input": [
      "a*b"
     ],
     "language": "python",
     "metadata": {},
     "outputs": [
      {
       "metadata": {},
       "output_type": "pyout",
       "prompt_number": 209,
       "text": [
        "array([[ 2.,  2.],\n",
        "       [ 3.,  3.]])"
       ]
      }
     ],
     "prompt_number": 209
    },
    {
     "cell_type": "code",
     "collapsed": false,
     "input": [
      "print b.T"
     ],
     "language": "python",
     "metadata": {},
     "outputs": [
      {
       "output_type": "stream",
       "stream": "stdout",
       "text": [
        "[[2 3]]\n"
       ]
      }
     ],
     "prompt_number": 211
    },
    {
     "cell_type": "markdown",
     "metadata": {},
     "source": [
      "## Aggregate"
     ]
    },
    {
     "cell_type": "code",
     "collapsed": false,
     "input": [
      "m = np.array([[1,2], [3,4]])\n",
      "m"
     ],
     "language": "python",
     "metadata": {},
     "outputs": [
      {
       "metadata": {},
       "output_type": "pyout",
       "prompt_number": 203,
       "text": [
        "array([[1, 2],\n",
        "       [3, 4]])"
       ]
      }
     ],
     "prompt_number": 203
    },
    {
     "cell_type": "code",
     "collapsed": false,
     "input": [
      "np.sum(m)"
     ],
     "language": "python",
     "metadata": {},
     "outputs": [
      {
       "metadata": {},
       "output_type": "pyout",
       "prompt_number": 205,
       "text": [
        "10"
       ]
      }
     ],
     "prompt_number": 205
    },
    {
     "cell_type": "code",
     "collapsed": false,
     "input": [
      "np.sum(m, 0)"
     ],
     "language": "python",
     "metadata": {},
     "outputs": [
      {
       "metadata": {},
       "output_type": "pyout",
       "prompt_number": 206,
       "text": [
        "array([4, 6])"
       ]
      }
     ],
     "prompt_number": 206
    },
    {
     "cell_type": "code",
     "collapsed": false,
     "input": [
      "np.sum(m, 1)"
     ],
     "language": "python",
     "metadata": {},
     "outputs": [
      {
       "metadata": {},
       "output_type": "pyout",
       "prompt_number": 207,
       "text": [
        "array([3, 7])"
       ]
      }
     ],
     "prompt_number": 207
    },
    {
     "cell_type": "markdown",
     "metadata": {},
     "source": [
      "## Matrix"
     ]
    },
    {
     "cell_type": "code",
     "collapsed": false,
     "input": [
      "print 'm:'\n",
      "print m\n",
      "print 'b:'\n",
      "print b"
     ],
     "language": "python",
     "metadata": {},
     "outputs": [
      {
       "output_type": "stream",
       "stream": "stdout",
       "text": [
        "m:\n",
        "[[1 2]\n",
        " [3 4]]\n",
        "b:\n",
        "[[2]\n",
        " [3]]\n"
       ]
      }
     ],
     "prompt_number": 216
    },
    {
     "cell_type": "code",
     "collapsed": false,
     "input": [
      "m*b"
     ],
     "language": "python",
     "metadata": {},
     "outputs": [
      {
       "metadata": {},
       "output_type": "pyout",
       "prompt_number": 217,
       "text": [
        "array([[ 2,  4],\n",
        "       [ 9, 12]])"
       ]
      }
     ],
     "prompt_number": 217
    },
    {
     "cell_type": "code",
     "collapsed": false,
     "input": [
      "# note that b is a matrix (2d array). \n",
      "# The result is a 2d array.\n",
      "np.dot(m, b)"
     ],
     "language": "python",
     "metadata": {},
     "outputs": [
      {
       "metadata": {},
       "output_type": "pyout",
       "prompt_number": 218,
       "text": [
        "array([[ 8],\n",
        "       [18]])"
       ]
      }
     ],
     "prompt_number": 218
    },
    {
     "cell_type": "code",
     "collapsed": false,
     "input": [
      "# what if c is just an array\n",
      "c = np.array([ b[0,0], b[1,0] ]);\n",
      "c"
     ],
     "language": "python",
     "metadata": {},
     "outputs": [
      {
       "metadata": {},
       "output_type": "pyout",
       "prompt_number": 226,
       "text": [
        "array([2, 3])"
       ]
      }
     ],
     "prompt_number": 226
    },
    {
     "cell_type": "code",
     "collapsed": false,
     "input": [
      "# matrix product gives the same answer but the returned type is different.\n",
      "# The result is as array.\n",
      "np.dot(m , c)"
     ],
     "language": "python",
     "metadata": {},
     "outputs": [
      {
       "metadata": {},
       "output_type": "pyout",
       "prompt_number": 224,
       "text": [
        "array([ 8, 18])"
       ]
      }
     ],
     "prompt_number": 224
    },
    {
     "cell_type": "code",
     "collapsed": false,
     "input": [],
     "language": "python",
     "metadata": {},
     "outputs": [],
     "prompt_number": 227
    },
    {
     "cell_type": "code",
     "collapsed": false,
     "input": [],
     "language": "python",
     "metadata": {},
     "outputs": []
    }
   ],
   "metadata": {}
  }
 ]
}